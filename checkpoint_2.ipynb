{
  "nbformat": 4,
  "nbformat_minor": 0,
  "metadata": {
    "colab": {
      "name": "checkpoint 2",
      "provenance": [],
      "authorship_tag": "ABX9TyP8e1puy6tVfC6WRkvFnbLq",
      "include_colab_link": true
    },
    "kernelspec": {
      "name": "python3",
      "display_name": "Python 3"
    }
  },
  "cells": [
    {
      "cell_type": "markdown",
      "metadata": {
        "id": "view-in-github",
        "colab_type": "text"
      },
      "source": [
        "<a href=\"https://colab.research.google.com/github/rania593/checkpoint-python/blob/main/checkpoint_2.ipynb\" target=\"_parent\"><img src=\"https://colab.research.google.com/assets/colab-badge.svg\" alt=\"Open In Colab\"/></a>"
      ]
    },
    {
      "cell_type": "code",
      "metadata": {
        "colab": {
          "base_uri": "https://localhost:8080/"
        },
        "id": "8rjhbO_9b7_O",
        "outputId": "71ed627d-f649-4b52-fb7e-1d9aaeed0538"
      },
      "source": [
        "#First qst\n",
        "\n",
        "L = [] # démarrer une liste vide\n",
        "for x in range(2000,3200): \n",
        "   if (x%7==0) and (x%5==0):\n",
        "     L.append(x)\n",
        "   #ajouter à la liste\n",
        "    # L.append \n",
        "print(L)"
      ],
      "execution_count": null,
      "outputs": [
        {
          "output_type": "stream",
          "text": [
            "[2030, 2065, 2100, 2135, 2170, 2205, 2240, 2275, 2310, 2345, 2380, 2415, 2450, 2485, 2520, 2555, 2590, 2625, 2660, 2695, 2730, 2765, 2800, 2835, 2870, 2905, 2940, 2975, 3010, 3045, 3080, 3115, 3150, 3185]\n"
          ],
          "name": "stdout"
        }
      ]
    },
    {
      "cell_type": "code",
      "metadata": {
        "colab": {
          "base_uri": "https://localhost:8080/"
        },
        "id": "l7JvZNEbgdCJ",
        "outputId": "0ec7dc11-6938-4062-efcc-458d2df49094"
      },
      "source": [
        "#2nd qst \n",
        "def factoriel(Y):\n",
        " x=1\n",
        " for i in range(1,int(Y)+1):\n",
        "  x=x*i\n",
        " print(x)\n",
        "\n",
        "factoriel(10)  #exemple avec y=10\n"
      ],
      "execution_count": null,
      "outputs": [
        {
          "output_type": "stream",
          "text": [
            "3628800\n"
          ],
          "name": "stdout"
        }
      ]
    },
    {
      "cell_type": "code",
      "metadata": {
        "colab": {
          "base_uri": "https://localhost:8080/"
        },
        "id": "CfZW2m8Dntmm",
        "outputId": "95ab74e0-d2ba-4210-f3fe-b191a2b3e8b7"
      },
      "source": [
        "#3d qst     \n",
        "for i in range(1,9):   #add n as int \n",
        " mydict[i]=i*i\n",
        "mydict\n"
      ],
      "execution_count": null,
      "outputs": [
        {
          "output_type": "execute_result",
          "data": {
            "text/plain": [
              "{1: 1, 2: 4, 3: 9, 4: 16, 5: 25, 6: 36, 7: 49, 8: 64}"
            ]
          },
          "metadata": {
            "tags": []
          },
          "execution_count": 55
        }
      ]
    },
    {
      "cell_type": "code",
      "metadata": {
        "id": "un11V8vgr6rd",
        "colab": {
          "base_uri": "https://localhost:8080/"
        },
        "outputId": "b619a32a-7440-490e-d7ba-9cfa3701b76c"
      },
      "source": [
        "#4th qst\n",
        "def missing_char(S,n):\n",
        "  m=S[n]\n",
        "  print(S.replace(m,''))\n",
        "missing_char('KAO',1)\n"
      ],
      "execution_count": null,
      "outputs": [
        {
          "output_type": "stream",
          "text": [
            "KO\n"
          ],
          "name": "stdout"
        }
      ]
    },
    {
      "cell_type": "code",
      "metadata": {
        "colab": {
          "base_uri": "https://localhost:8080/"
        },
        "id": "P_KDcIwdOpRb",
        "outputId": "c3116c5c-4b2e-48f1-8a87-c883feffef76"
      },
      "source": [
        "#5th qst \n",
        "import numpy as np\n",
        "def to_list():\n",
        " array=np.random.random((2,2))\n",
        " print(list(array))\n",
        "\n",
        "to_list()\n"
      ],
      "execution_count": null,
      "outputs": [
        {
          "output_type": "stream",
          "text": [
            "[array([0.85083905, 0.83695064]), array([0.36569103, 0.20786353])]\n"
          ],
          "name": "stdout"
        }
      ]
    },
    {
      "cell_type": "code",
      "metadata": {
        "id": "6dTdWRr3TNYE"
      },
      "source": [
        "#6th qst \n",
        "import numpy as np\n",
        "\n",
        "a=int(input(\"Size of array:\"))\n",
        "\n",
        "A1 = np.empty(a)\n",
        "A2=np.empty(a)\n",
        "for i in range(len(A1)):\n",
        "    x=float(input(\"Element:\"))\n",
        "    y=float(input(\"Element2:\"))\n",
        "    A1[i]=x\n",
        "    A2[i]=y\n",
        "print(np.floor(A1))\n",
        "print(np.floor(A2))\n",
        "np.concatenate((A1, A2))\n",
        "In [x]: print( np.cov(X) )\n"
      ],
      "execution_count": null,
      "outputs": []
    },
    {
      "cell_type": "code",
      "metadata": {
        "colab": {
          "base_uri": "https://localhost:8080/"
        },
        "id": "i3aaZAMdvx6d",
        "outputId": "6b69c2f1-dcbb-41e5-c2e5-c44a2063b3f1"
      },
      "source": [
        "#7 qst\n",
        "import math\n",
        "\n",
        "L = []\n",
        "for x in range(1,10): \n",
        "     L.append(x)\n",
        "print(L)\n",
        "n=len(L)\n",
        "C=50\n",
        "H=30\n",
        "for i in range(0,n):\n",
        "  q= math.sqrt((2 * C * L[i])/H)\n",
        "  print(q)\n",
        " # all the values are there but not in the form of css                 \n",
        "\n",
        "\n",
        "\n",
        "  \n",
        "\n",
        "\n",
        "\n",
        "\n"
      ],
      "execution_count": null,
      "outputs": [
        {
          "output_type": "stream",
          "text": [
            "[1, 2, 3, 4, 5, 6, 7, 8, 9]\n",
            "1.8257418583505538\n",
            "2.581988897471611\n",
            "3.1622776601683795\n",
            "3.6514837167011076\n",
            "4.08248290463863\n",
            "4.47213595499958\n",
            "4.83045891539648\n",
            "5.163977794943222\n",
            "5.477225575051661\n"
          ],
          "name": "stdout"
        }
      ]
    }
  ]
}